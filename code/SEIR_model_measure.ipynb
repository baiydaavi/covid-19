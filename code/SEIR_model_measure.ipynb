{
 "cells": [
  {
   "cell_type": "code",
   "execution_count": 1,
   "metadata": {},
   "outputs": [],
   "source": [
    "import networkx as nx\n",
    "import numpy as np\n",
    "import scipy as sp\n",
    "import matplotlib.pyplot as plt\n",
    "from matplotlib import animation, rc\n",
    "from IPython.display import HTML\n",
    "import random\n",
    "from matplotlib.lines import Line2D\n",
    "import plotly.graph_objects as go"
   ]
  },
  {
   "cell_type": "markdown",
   "metadata": {},
   "source": [
    "## Defining the parameters"
   ]
  },
  {
   "cell_type": "code",
   "execution_count": 11,
   "metadata": {},
   "outputs": [],
   "source": [
    "total_units = 100000 # total number of nodes\n",
    "average_contacts = 4 # number of contacts per unit\n",
    "num_inf_unit = 2 # number of exposed units at the start of the simulation\n",
    "params = [3,0.1,4] # latent period = 3 days, probability of transmission = 0.25, infectious period = 4 days\n",
    "num_simulation = 100 # total number of simulations\n",
    "num_days = 100 # total number of days a given simulation runs for"
   ]
  },
  {
   "cell_type": "markdown",
   "metadata": {},
   "source": [
    "## Average number of edges in a erdos-renyi graph $ G(N,p)  = \\binom{N}{2} p$. Here $N$ is the number of nodes and $p$ is the probability of forming an edge between any two nodes. Therefore, average number of edges or contacts per node is $(N-1)p$."
   ]
  },
  {
   "cell_type": "markdown",
   "metadata": {},
   "source": [
    "# Equations for the SEIR model\n",
    "\n",
    "## $$ \\frac{\\mathrm{d}S_i}{\\mathrm{d}t} = -\\beta_iS_i $$\n",
    "## $$ \\frac{\\mathrm{d}E_i}{\\mathrm{d}t} = \\beta_iS_i - \\alpha E_i $$\n",
    "## $$ \\frac{\\mathrm{d}I_i}{\\mathrm{d}t} = \\alpha E_i - \\gamma I_i $$\n",
    "## $$ \\frac{\\mathrm{d}R_i}{\\mathrm{d}t} = \\gamma I_i $$\n",
    "\n",
    "\n",
    "## where $$\\beta_i = \\sum_{j} \\beta G_{ij} I_j$$ \n",
    "\n",
    "## Here $ \\beta $ denotes the probability of transimission. $\\alpha$ denotes the rate at which exposed people become infectious. $\\gamma$ denotes the recovery rate.\n",
    "\n",
    "## To implement the above equations in an individual based model, we use the following rules.\n",
    "\n",
    "* ### A susceptible node $i$ gets infected according to ~ $Binomial(1 - e^{-\\beta_i})$.\n",
    "\n",
    "* ### An exposed node $i$ becomes infectious according to ~ $Binomial(1 - e^{-\\alpha t_{exposed}})$, where $t_{exposed}$ is the time since the node got exposed. \n",
    "\n",
    "* ### An infectious node $i$ recovers or dies according to ~ $Binomial(1 - e^{-\\gamma t_{infectious}})$, where $t_{infectious}$ is the time since the node became infectious."
   ]
  },
  {
   "cell_type": "markdown",
   "metadata": {},
   "source": [
    "# <font color='red'>Implementing the SEIR model</font>\n",
    "### Each node has a ***status*** attribute which denotes the current infection state of that node. The status map is given by : 0 - susceptible (default), 1 - infectious, 2 - exposed, 3 - recovered.\n",
    "### Each node also has a ***exposed_time*** and a ***infectious_time*** attribute which stores the time since exposed and the time since infectious, respectively. They are non-zero only when a given node is exposed or infectious."
   ]
  },
  {
   "cell_type": "code",
   "execution_count": 12,
   "metadata": {},
   "outputs": [],
   "source": [
    "def SEIR_model(iteration_num, graph_list, node_count, params):\n",
    "\n",
    "    graph = graph_list[-1].copy()\n",
    " \n",
    "    for _ in range(iteration_num):\n",
    "\n",
    "        temp_node_count = node_count[-1]\n",
    "        \n",
    "        for node in graph:\n",
    "\n",
    "            # when the current node is susceptible\n",
    "            if graph.nodes[node]['status']==0:\n",
    "                num_inf_neighbor = len([v for v in graph.neighbors(node) if graph.nodes[v]['status'] == 1])\n",
    "                if np.random.random_sample() < 1 - np.exp(-params[1]*num_inf_neighbor):\n",
    "                    graph.nodes[node]['status'] = 2\n",
    "                    temp_node_count = [sum(x) for x in zip(temp_node_count, [-1,0,1,0])]\n",
    "\n",
    "            # when the current node is exposed\n",
    "            elif graph.nodes[node]['status']==2:\n",
    "                if graph.nodes[node]['exposed_time'] >= params[0]:\n",
    "                    graph.nodes[node]['status'] = 1\n",
    "                    graph.nodes[node]['exposed_time'] = 0\n",
    "                    temp_node_count = [sum(x) for x in zip(temp_node_count, [0,1,-1,0])]\n",
    "                else:\n",
    "                    graph.nodes[node]['exposed_time'] += 1\n",
    "\n",
    "            # when the current node is infectious        \n",
    "            elif graph.nodes[node]['status']==1:\n",
    "                if graph.nodes[node]['infectious_time'] >= params[2]:\n",
    "                    graph.nodes[node]['status'] = 3\n",
    "                    graph.nodes[node]['infectious_time'] = 0\n",
    "                    temp_node_count = [sum(x) for x in zip(temp_node_count, [0,-1,0,1])]\n",
    "                else:\n",
    "                    graph.nodes[node]['infectious_time'] += 1\n",
    "\n",
    "        node_count.append(temp_node_count)\n",
    "        graph_list.append(graph.copy())\n",
    "\n",
    "    return graph_list, node_count"
   ]
  },
  {
   "cell_type": "code",
   "execution_count": 13,
   "metadata": {},
   "outputs": [],
   "source": [
    "# Choosing the graph\n",
    "G = nx.powerlaw_cluster_graph(total_units, int(average_contacts/2), 0.5)\n",
    "x = np.asarray([G.degree(n) for n in G])\n",
    "high_degree = list(np.where(x>=100)[0])\n",
    "# Initiating the graph attributes\n",
    "status_array = dict(G.nodes(data='status', default=0))\n",
    "nx.set_node_attributes(G, status_array, 'status')\n",
    "exposed_array = dict(G.nodes(data='exposed_time', default=0))\n",
    "nx.set_node_attributes(G, exposed_array, 'exposed_time')\n",
    "infectious_array = dict(G.nodes(data='infectious_time', default=0))\n",
    "nx.set_node_attributes(G, infectious_array, 'infectious_time')"
   ]
  },
  {
   "cell_type": "markdown",
   "metadata": {},
   "source": [
    "## Running the simulation"
   ]
  },
  {
   "cell_type": "code",
   "execution_count": null,
   "metadata": {},
   "outputs": [],
   "source": [
    "compiled_g_list = []\n",
    "compiled_node_count = []\n",
    "\n",
    "for _ in range(num_simulation):\n",
    "    \n",
    "    G_use = G.copy()\n",
    "    \n",
    "    # choosing the infected units at the beginning\n",
    "    \n",
    "    exposed_nodes = np.random.randint(total_units, size=(num_inf_unit))\n",
    "    for i in exposed_nodes:\n",
    "        G_use.nodes[i]['status']=2\n",
    "\n",
    "    graph_list = [G_use.copy()]\n",
    "    \n",
    "    \n",
    "    init_node_count = [0,0,0,0]\n",
    "    for node in G_use:\n",
    "        node_stat = G_use.nodes[node]['status']\n",
    "        init_node_count[node_stat] += 1\n",
    "    node_count = [init_node_count]\n",
    "    \n",
    "    # running the SEIR model\n",
    "    g_list, node_count = SEIR_model(num_days, graph_list, node_count, params)\n",
    "    compiled_g_list.append(g_list)\n",
    "    compiled_node_count.append(node_count)"
   ]
  },
  {
   "cell_type": "code",
   "execution_count": null,
   "metadata": {
    "tags": []
   },
   "outputs": [],
   "source": [
    "%matplotlib inline"
   ]
  },
  {
   "cell_type": "markdown",
   "metadata": {},
   "source": [
    "## Showing the video of how the epidemics spreads for one of the simulations"
   ]
  },
  {
   "cell_type": "code",
   "execution_count": 8,
   "metadata": {
    "tags": []
   },
   "outputs": [
    {
     "ename": "TypeError",
     "evalue": "only integer scalar arrays can be converted to a scalar index",
     "output_type": "error",
     "traceback": [
      "\u001b[0;31m---------------------------------------------------------------------------\u001b[0m",
      "\u001b[0;31mTypeError\u001b[0m                                 Traceback (most recent call last)",
      "\u001b[0;32m<ipython-input-8-246a47d1cebc>\u001b[0m in \u001b[0;36m<module>\u001b[0;34m\u001b[0m\n\u001b[1;32m     23\u001b[0m \u001b[0manim\u001b[0m \u001b[0;34m=\u001b[0m \u001b[0manimation\u001b[0m\u001b[0;34m.\u001b[0m\u001b[0mFuncAnimation\u001b[0m\u001b[0;34m(\u001b[0m\u001b[0mfig\u001b[0m\u001b[0;34m,\u001b[0m \u001b[0manimate\u001b[0m\u001b[0;34m,\u001b[0m \u001b[0mframes\u001b[0m\u001b[0;34m=\u001b[0m\u001b[0;36m20\u001b[0m\u001b[0;34m,\u001b[0m \u001b[0minterval\u001b[0m\u001b[0;34m=\u001b[0m\u001b[0;36m1000\u001b[0m\u001b[0;34m,\u001b[0m \u001b[0mrepeat\u001b[0m\u001b[0;34m=\u001b[0m\u001b[0;32mTrue\u001b[0m\u001b[0;34m)\u001b[0m\u001b[0;34m\u001b[0m\u001b[0;34m\u001b[0m\u001b[0m\n\u001b[1;32m     24\u001b[0m \u001b[0;34m\u001b[0m\u001b[0m\n\u001b[0;32m---> 25\u001b[0;31m \u001b[0mHTML\u001b[0m\u001b[0;34m(\u001b[0m\u001b[0manim\u001b[0m\u001b[0;34m.\u001b[0m\u001b[0mto_jshtml\u001b[0m\u001b[0;34m(\u001b[0m\u001b[0;34m)\u001b[0m\u001b[0;34m)\u001b[0m\u001b[0;34m\u001b[0m\u001b[0;34m\u001b[0m\u001b[0m\n\u001b[0m",
      "\u001b[0;32m~/opt/anaconda3/lib/python3.7/site-packages/matplotlib/animation.py\u001b[0m in \u001b[0;36mto_jshtml\u001b[0;34m(self, fps, embed_frames, default_mode)\u001b[0m\n\u001b[1;32m   1378\u001b[0m                                     \u001b[0membed_frames\u001b[0m\u001b[0;34m=\u001b[0m\u001b[0membed_frames\u001b[0m\u001b[0;34m,\u001b[0m\u001b[0;34m\u001b[0m\u001b[0;34m\u001b[0m\u001b[0m\n\u001b[1;32m   1379\u001b[0m                                     default_mode=default_mode)\n\u001b[0;32m-> 1380\u001b[0;31m                 \u001b[0mself\u001b[0m\u001b[0;34m.\u001b[0m\u001b[0msave\u001b[0m\u001b[0;34m(\u001b[0m\u001b[0mstr\u001b[0m\u001b[0;34m(\u001b[0m\u001b[0mpath\u001b[0m\u001b[0;34m)\u001b[0m\u001b[0;34m,\u001b[0m \u001b[0mwriter\u001b[0m\u001b[0;34m=\u001b[0m\u001b[0mwriter\u001b[0m\u001b[0;34m)\u001b[0m\u001b[0;34m\u001b[0m\u001b[0;34m\u001b[0m\u001b[0m\n\u001b[0m\u001b[1;32m   1381\u001b[0m                 \u001b[0mself\u001b[0m\u001b[0;34m.\u001b[0m\u001b[0m_html_representation\u001b[0m \u001b[0;34m=\u001b[0m \u001b[0mpath\u001b[0m\u001b[0;34m.\u001b[0m\u001b[0mread_text\u001b[0m\u001b[0;34m(\u001b[0m\u001b[0;34m)\u001b[0m\u001b[0;34m\u001b[0m\u001b[0;34m\u001b[0m\u001b[0m\n\u001b[1;32m   1382\u001b[0m \u001b[0;34m\u001b[0m\u001b[0m\n",
      "\u001b[0;32m~/opt/anaconda3/lib/python3.7/site-packages/matplotlib/animation.py\u001b[0m in \u001b[0;36msave\u001b[0;34m(self, filename, writer, fps, dpi, codec, bitrate, extra_args, metadata, extra_anim, savefig_kwargs, progress_callback)\u001b[0m\n\u001b[1;32m   1137\u001b[0m                 \u001b[0;32mfor\u001b[0m \u001b[0manim\u001b[0m \u001b[0;32min\u001b[0m \u001b[0mall_anim\u001b[0m\u001b[0;34m:\u001b[0m\u001b[0;34m\u001b[0m\u001b[0;34m\u001b[0m\u001b[0m\n\u001b[1;32m   1138\u001b[0m                     \u001b[0;31m# Clear the initial frame\u001b[0m\u001b[0;34m\u001b[0m\u001b[0;34m\u001b[0m\u001b[0;34m\u001b[0m\u001b[0m\n\u001b[0;32m-> 1139\u001b[0;31m                     \u001b[0manim\u001b[0m\u001b[0;34m.\u001b[0m\u001b[0m_init_draw\u001b[0m\u001b[0;34m(\u001b[0m\u001b[0;34m)\u001b[0m\u001b[0;34m\u001b[0m\u001b[0;34m\u001b[0m\u001b[0m\n\u001b[0m\u001b[1;32m   1140\u001b[0m                 \u001b[0mframe_number\u001b[0m \u001b[0;34m=\u001b[0m \u001b[0;36m0\u001b[0m\u001b[0;34m\u001b[0m\u001b[0;34m\u001b[0m\u001b[0m\n\u001b[1;32m   1141\u001b[0m                 \u001b[0;31m# TODO: Currently only FuncAnimation has a save_count\u001b[0m\u001b[0;34m\u001b[0m\u001b[0;34m\u001b[0m\u001b[0;34m\u001b[0m\u001b[0m\n",
      "\u001b[0;32m~/opt/anaconda3/lib/python3.7/site-packages/matplotlib/animation.py\u001b[0m in \u001b[0;36m_init_draw\u001b[0;34m(self)\u001b[0m\n\u001b[1;32m   1730\u001b[0m         \u001b[0;31m# artists.\u001b[0m\u001b[0;34m\u001b[0m\u001b[0;34m\u001b[0m\u001b[0;34m\u001b[0m\u001b[0m\n\u001b[1;32m   1731\u001b[0m         \u001b[0;32mif\u001b[0m \u001b[0mself\u001b[0m\u001b[0;34m.\u001b[0m\u001b[0m_init_func\u001b[0m \u001b[0;32mis\u001b[0m \u001b[0;32mNone\u001b[0m\u001b[0;34m:\u001b[0m\u001b[0;34m\u001b[0m\u001b[0;34m\u001b[0m\u001b[0m\n\u001b[0;32m-> 1732\u001b[0;31m             \u001b[0mself\u001b[0m\u001b[0;34m.\u001b[0m\u001b[0m_draw_frame\u001b[0m\u001b[0;34m(\u001b[0m\u001b[0mnext\u001b[0m\u001b[0;34m(\u001b[0m\u001b[0mself\u001b[0m\u001b[0;34m.\u001b[0m\u001b[0mnew_frame_seq\u001b[0m\u001b[0;34m(\u001b[0m\u001b[0;34m)\u001b[0m\u001b[0;34m)\u001b[0m\u001b[0;34m)\u001b[0m\u001b[0;34m\u001b[0m\u001b[0;34m\u001b[0m\u001b[0m\n\u001b[0m\u001b[1;32m   1733\u001b[0m \u001b[0;34m\u001b[0m\u001b[0m\n\u001b[1;32m   1734\u001b[0m         \u001b[0;32melse\u001b[0m\u001b[0;34m:\u001b[0m\u001b[0;34m\u001b[0m\u001b[0;34m\u001b[0m\u001b[0m\n",
      "\u001b[0;32m~/opt/anaconda3/lib/python3.7/site-packages/matplotlib/animation.py\u001b[0m in \u001b[0;36m_draw_frame\u001b[0;34m(self, framedata)\u001b[0m\n\u001b[1;32m   1753\u001b[0m         \u001b[0;31m# Call the func with framedata and args. If blitting is desired,\u001b[0m\u001b[0;34m\u001b[0m\u001b[0;34m\u001b[0m\u001b[0;34m\u001b[0m\u001b[0m\n\u001b[1;32m   1754\u001b[0m         \u001b[0;31m# func needs to return a sequence of any artists that were modified.\u001b[0m\u001b[0;34m\u001b[0m\u001b[0;34m\u001b[0m\u001b[0;34m\u001b[0m\u001b[0m\n\u001b[0;32m-> 1755\u001b[0;31m         \u001b[0mself\u001b[0m\u001b[0;34m.\u001b[0m\u001b[0m_drawn_artists\u001b[0m \u001b[0;34m=\u001b[0m \u001b[0mself\u001b[0m\u001b[0;34m.\u001b[0m\u001b[0m_func\u001b[0m\u001b[0;34m(\u001b[0m\u001b[0mframedata\u001b[0m\u001b[0;34m,\u001b[0m \u001b[0;34m*\u001b[0m\u001b[0mself\u001b[0m\u001b[0;34m.\u001b[0m\u001b[0m_args\u001b[0m\u001b[0;34m)\u001b[0m\u001b[0;34m\u001b[0m\u001b[0;34m\u001b[0m\u001b[0m\n\u001b[0m\u001b[1;32m   1756\u001b[0m         \u001b[0;32mif\u001b[0m \u001b[0mself\u001b[0m\u001b[0;34m.\u001b[0m\u001b[0m_blit\u001b[0m\u001b[0;34m:\u001b[0m\u001b[0;34m\u001b[0m\u001b[0;34m\u001b[0m\u001b[0m\n\u001b[1;32m   1757\u001b[0m             \u001b[0;32mif\u001b[0m \u001b[0mself\u001b[0m\u001b[0;34m.\u001b[0m\u001b[0m_drawn_artists\u001b[0m \u001b[0;32mis\u001b[0m \u001b[0;32mNone\u001b[0m\u001b[0;34m:\u001b[0m\u001b[0;34m\u001b[0m\u001b[0;34m\u001b[0m\u001b[0m\n",
      "\u001b[0;32m<ipython-input-8-246a47d1cebc>\u001b[0m in \u001b[0;36manimate\u001b[0;34m(i)\u001b[0m\n\u001b[1;32m     14\u001b[0m     \u001b[0mplot_graph\u001b[0m \u001b[0;34m=\u001b[0m \u001b[0mcompiled_g_list\u001b[0m\u001b[0;34m[\u001b[0m\u001b[0msim_num\u001b[0m\u001b[0;34m]\u001b[0m\u001b[0;34m[\u001b[0m\u001b[0mi\u001b[0m\u001b[0;34m]\u001b[0m\u001b[0;34m.\u001b[0m\u001b[0mcopy\u001b[0m\u001b[0;34m(\u001b[0m\u001b[0;34m)\u001b[0m\u001b[0;34m\u001b[0m\u001b[0;34m\u001b[0m\u001b[0m\n\u001b[1;32m     15\u001b[0m     \u001b[0mcolor_map\u001b[0m \u001b[0;34m=\u001b[0m \u001b[0;34m[\u001b[0m\u001b[0mcolor_ref\u001b[0m\u001b[0;34m[\u001b[0m\u001b[0mplot_graph\u001b[0m\u001b[0;34m.\u001b[0m\u001b[0mnodes\u001b[0m\u001b[0;34m[\u001b[0m\u001b[0mk\u001b[0m\u001b[0;34m]\u001b[0m\u001b[0;34m[\u001b[0m\u001b[0;34m'status'\u001b[0m\u001b[0;34m]\u001b[0m\u001b[0;34m]\u001b[0m \u001b[0;32mfor\u001b[0m \u001b[0mk\u001b[0m \u001b[0;32min\u001b[0m \u001b[0mplot_graph\u001b[0m\u001b[0;34m]\u001b[0m\u001b[0;34m\u001b[0m\u001b[0;34m\u001b[0m\u001b[0m\n\u001b[0;32m---> 16\u001b[0;31m     \u001b[0mnx\u001b[0m\u001b[0;34m.\u001b[0m\u001b[0mdraw_networkx_nodes\u001b[0m\u001b[0;34m(\u001b[0m\u001b[0mplot_graph\u001b[0m\u001b[0;34m,\u001b[0m \u001b[0mpos\u001b[0m\u001b[0;34m,\u001b[0m \u001b[0mnodelist\u001b[0m \u001b[0;34m=\u001b[0m \u001b[0mhigh_degree\u001b[0m\u001b[0;34m,\u001b[0m \u001b[0mnode_color\u001b[0m\u001b[0;34m=\u001b[0m\u001b[0mcolor_map\u001b[0m\u001b[0;34m[\u001b[0m\u001b[0mnp\u001b[0m\u001b[0;34m.\u001b[0m\u001b[0marray\u001b[0m\u001b[0;34m(\u001b[0m\u001b[0mhigh_degree\u001b[0m\u001b[0;34m)\u001b[0m\u001b[0;34m]\u001b[0m\u001b[0;34m,\u001b[0m \u001b[0mnode_shape\u001b[0m \u001b[0;34m=\u001b[0m \u001b[0;34m'o'\u001b[0m\u001b[0;34m,\u001b[0m \u001b[0mnode_size\u001b[0m\u001b[0;34m=\u001b[0m\u001b[0;36m50\u001b[0m\u001b[0;34m,\u001b[0m \u001b[0medgecolors\u001b[0m \u001b[0;34m=\u001b[0m \u001b[0;34m'k'\u001b[0m\u001b[0;34m)\u001b[0m\u001b[0;34m\u001b[0m\u001b[0;34m\u001b[0m\u001b[0m\n\u001b[0m\u001b[1;32m     17\u001b[0m     \u001b[0;31m#limits=plt.axis('on') # turns on axis\u001b[0m\u001b[0;34m\u001b[0m\u001b[0;34m\u001b[0m\u001b[0;34m\u001b[0m\u001b[0m\n\u001b[1;32m     18\u001b[0m     \u001b[0max\u001b[0m\u001b[0;34m.\u001b[0m\u001b[0mset_title\u001b[0m\u001b[0;34m(\u001b[0m\u001b[0;34mf\"Day {i} : S = {node_count[i][0]}, E = {node_count[i][2]}, I = {node_count[i][1]}, R = {node_count[i][3]}\"\u001b[0m\u001b[0;34m,\u001b[0m \u001b[0mfontsize\u001b[0m\u001b[0;34m=\u001b[0m\u001b[0;36m30\u001b[0m\u001b[0;34m)\u001b[0m\u001b[0;34m\u001b[0m\u001b[0;34m\u001b[0m\u001b[0m\n",
      "\u001b[0;31mTypeError\u001b[0m: only integer scalar arrays can be converted to a scalar index"
     ]
    },
    {
     "data": {
      "image/png": "[encoded data removed]",
      "text/plain": [
       "<Figure size 720x576 with 1 Axes>"
      ]
     },
     "metadata": {
      "needs_background": "light"
     },
     "output_type": "display_data"
    }
   ],
   "source": [
    "color_ref = ['aqua','red','gold','g']\n",
    "fig, ax = plt.subplots(figsize=(10,8))\n",
    "#fig.set_facecolor(\"#00000F\")\n",
    "# Animation funciton\n",
    "legend_elements = [Line2D([0], [0], marker='o', color='w', label='Susceptible', markerfacecolor='aqua', markersize=15),\n",
    "                  Line2D([0], [0], marker='o', color='w', label='Infectious', markerfacecolor='r', markersize=15),\n",
    "                  Line2D([0], [0], marker='o', color='w', label='Exposed', markerfacecolor='gold', markersize=15),\n",
    "                  Line2D([0], [0], marker='o', color='w', label='Recovered', markerfacecolor='g', markersize=15)]\n",
    "\n",
    "sim_num = 1\n",
    "pos = nx.random_layout(compiled_g_list[sim_num][0])\n",
    "def animate(i):\n",
    "    ax.clear()\n",
    "    plot_graph = compiled_g_list[sim_num][i].copy()\n",
    "    color_map = [color_ref[plot_graph.nodes[k]['status']] for k in plot_graph]\n",
    "    nx.draw_networkx_nodes(plot_graph, pos, nodelist = high_degree, node_color=color_map[np.array(high_degree)], node_shape = 'o', node_size=50, edgecolors = 'k')\n",
    "    #limits=plt.axis('on') # turns on axis\n",
    "    ax.set_title(f\"Day {i} : S = {node_count[i][0]}, E = {node_count[i][2]}, I = {node_count[i][1]}, R = {node_count[i][3]}\", fontsize=30)\n",
    "    ax.legend(handles=legend_elements, loc=\"upper center\",\n",
    "          bbox_to_anchor=(0.5, 1.07), ncol=4, fontsize = 15)\n",
    "    \n",
    "    \n",
    "anim = animation.FuncAnimation(fig, animate, frames=20, interval=1000, repeat=True)\n",
    "                     \n",
    "HTML(anim.to_jshtml())"
   ]
  },
  {
   "cell_type": "markdown",
   "metadata": {},
   "source": [
    "## Plotting how the total number of each infection state evolves over time (average over all simulations)"
   ]
  },
  {
   "cell_type": "code",
   "execution_count": null,
   "metadata": {},
   "outputs": [],
   "source": [
    "average_node_count = np.mean(np.asarray(compiled_node_count),axis=0)\n",
    "\n",
    "fig = go.Figure()\n",
    "fig.add_trace(go.Scatter(x=np.arange(0,len(average_node_count)), y=[v[0] for v in average_node_count],\n",
    "                    mode='lines', name='susceptible', line=dict(color='aqua', width=4)))\n",
    "fig.add_trace(go.Scatter(x=np.arange(0,len(average_node_count)), y=[v[1] for v in average_node_count],\n",
    "                    mode='lines', name='infectious', line=dict(color='red', width=4)))\n",
    "fig.add_trace(go.Scatter(x=np.arange(0,len(average_node_count)), y=[v[2] for v in average_node_count],\n",
    "                    mode='lines', name='exposed', line=dict(color='gold', width=4)))\n",
    "fig.add_trace(go.Scatter(x=np.arange(0,len(average_node_count)), y=[v[3] for v in average_node_count],\n",
    "                    mode='lines', name='recovered', line=dict(color='green', width=4)))\n",
    "fig.update_layout(xaxis_title='Time (Days)', yaxis_title='Units')\n",
    "fig.show()"
   ]
  },
  {
   "cell_type": "code",
   "execution_count": null,
   "metadata": {},
   "outputs": [],
   "source": [
    "fig = go.Figure()\n",
    "fig.add_trace(go.Scatter(x=np.arange(0,len(average_node_count)), y=[np.log(v[1]+1) for v in average_node_count],\n",
    "                    mode='lines', name='infectious', line=dict(color='red', width=2)))\n",
    "fig.update_layout(xaxis_title='Time (Days)', yaxis_title='Units',yaxis=dict(range=[0, max([np.log(v[1]+1) for v in average_node_count])]))\n",
    "fig.show()"
   ]
  },
  {
   "cell_type": "code",
   "execution_count": null,
   "metadata": {},
   "outputs": [],
   "source": []
  }
 ],
 "metadata": {
  "kernelspec": {
   "display_name": "Python 3",
   "language": "python",
   "name": "python3"
  },
  "language_info": {
   "codemirror_mode": {
    "name": "ipython",
    "version": 3
   },
   "file_extension": ".py",
   "mimetype": "text/x-python",
   "name": "python",
   "nbconvert_exporter": "python",
   "pygments_lexer": "ipython3",
   "version": "3.7.4"
  }
 },
 "nbformat": 4,
 "nbformat_minor": 2
}
